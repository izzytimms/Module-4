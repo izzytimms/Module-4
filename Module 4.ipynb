{
 "cells": [
  {
   "cell_type": "markdown",
   "id": "4a69e321-c233-4391-a850-501823a25bce",
   "metadata": {},
   "source": [
    "# Module 4 Peer Graded Assignment"
   ]
  },
  {
   "cell_type": "markdown",
   "id": "42d5f9fe-8e05-46ce-88ec-4cafe1590c17",
   "metadata": {},
   "source": [
    "### Introduction: This is my module 4 assignment."
   ]
  },
  {
   "cell_type": "markdown",
   "id": "3fff90ed-779c-4419-a702-c63f39fb2d38",
   "metadata": {},
   "source": [
    "**Ojectives:**\n",
    "* To identify data science tools and languages\n",
    "* To input code and get an output\n",
    "* To practice coding"
   ]
  },
  {
   "cell_type": "markdown",
   "id": "58b1d72f-5ac5-418b-b5b0-5c0827031fbe",
   "metadata": {},
   "source": [
    "***\n",
    "Some data science languages are:\n",
    "* Python\n",
    "* R\n",
    "* SQL\n",
    "* JavaScript"
   ]
  },
  {
   "cell_type": "markdown",
   "id": "a7e97c45-4a67-49df-8274-159e22004a50",
   "metadata": {},
   "source": [
    "***\n",
    "Some data science libraries are:\n",
    "* Pandas\n",
    "* NumPy\n",
    "* Seaborn\n",
    "* Keras"
   ]
  },
  {
   "cell_type": "markdown",
   "id": "aecdd895-9983-4310-b97c-fd35d6288fb0",
   "metadata": {},
   "source": [
    "***\n",
    "|Data Management|Data Visualization|Code Asset Management|Data Asset Management|\n",
    "|:-------:|:-------:|:-------:|:-------:|\n",
    "|MySQL|Hue|GitHub|ApacheAtlas|\n",
    "|Cassandra|Kibana|GitLab|Egeria|"
   ]
  },
  {
   "cell_type": "markdown",
   "id": "376a99af-eb15-4b0c-a7ff-0c1ce95f33b2",
   "metadata": {},
   "source": [
    "***\n",
    "### Below you will see arithmetic expression examples"
   ]
  },
  {
   "cell_type": "code",
   "execution_count": 1,
   "id": "a082b8d4-012c-4d81-a0b5-d2197043a446",
   "metadata": {},
   "outputs": [
    {
     "data": {
      "text/plain": [
       "26"
      ]
     },
     "execution_count": 1,
     "metadata": {},
     "output_type": "execute_result"
    }
   ],
   "source": [
    "(1+1)*13"
   ]
  },
  {
   "cell_type": "markdown",
   "id": "49bd8972-5dcd-400b-98bc-1f6266367e19",
   "metadata": {},
   "source": [
    "This will convert 200 minutes into hours:"
   ]
  },
  {
   "cell_type": "code",
   "execution_count": 3,
   "id": "cd86aeb2-486f-4331-881c-534138f81268",
   "metadata": {},
   "outputs": [
    {
     "data": {
      "text/plain": [
       "3.3333333333333335"
      ]
     },
     "execution_count": 3,
     "metadata": {},
     "output_type": "execute_result"
    }
   ],
   "source": [
    "200/60"
   ]
  },
  {
   "cell_type": "markdown",
   "id": "5211a837-e997-4b38-b498-34d25603b447",
   "metadata": {},
   "source": [
    "***\n",
    "## Author\n",
    "Izzy Timms"
   ]
  }
 ],
 "metadata": {
  "kernelspec": {
   "display_name": "Python",
   "language": "python",
   "name": "conda-env-python-py"
  },
  "language_info": {
   "codemirror_mode": {
    "name": "ipython",
    "version": 3
   },
   "file_extension": ".py",
   "mimetype": "text/x-python",
   "name": "python",
   "nbconvert_exporter": "python",
   "pygments_lexer": "ipython3",
   "version": "3.7.12"
  }
 },
 "nbformat": 4,
 "nbformat_minor": 5
}
